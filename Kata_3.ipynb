{
 "cells": [
  {
   "cell_type": "markdown",
   "metadata": {},
   "source": [
    "KATA 03\n"
   ]
  },
  {
   "cell_type": "markdown",
   "metadata": {},
   "source": [
    "Problema No. 1"
   ]
  },
  {
   "cell_type": "code",
   "execution_count": 3,
   "metadata": {},
   "outputs": [
    {
     "name": "stdout",
     "output_type": "stream",
     "text": [
      "¡Cuidado! Un asteroide se acerca a mas de 25km/Hr\n"
     ]
    }
   ],
   "source": [
    "# Añadir el código necesario para crear una variable que guarde la velocidad del asteroide.\n",
    "# Escribe una expresión de prueba para calcular si necesita una advertencia.\n",
    "# Agregue las instrucciones que se ejecutarán si la expresión de prueba es true o false.\n",
    "\n",
    "\n",
    "Velocidad_asteroide = 49\n",
    "if Velocidad_asteroide >= 25:\n",
    "    print('¡Cuidado! Un asteroide se acerca a mas de 25km/Hr')\n",
    "else:\n",
    "    print('¡Todo bien!')"
   ]
  },
  {
   "cell_type": "markdown",
   "metadata": {},
   "source": [
    "Problema N0. 2\n"
   ]
  },
  {
   "cell_type": "code",
   "execution_count": 8,
   "metadata": {},
   "outputs": [
    {
     "name": "stdout",
     "output_type": "stream",
     "text": [
      "No veo nada raro, todo OK\n"
     ]
    }
   ],
   "source": [
    "Velocidad_asteroide = 19\n",
    "if Velocidad_asteroide >25:\n",
    "    print (\"Veo un rayo de luz xD\")\n",
    "elif Velocidad_asteroide >= 23:\n",
    "    print(\"sigo viendo la luz xD\")\n",
    "else:\n",
    "    print(\"No veo nada raro, todo OK\")"
   ]
  },
  {
   "cell_type": "markdown",
   "metadata": {},
   "source": [
    "Problema No. 3\n"
   ]
  },
  {
   "cell_type": "code",
   "execution_count": 11,
   "metadata": {},
   "outputs": [
    {
     "name": "stdout",
     "output_type": "stream",
     "text": [
      "la velocidad es muy alta vamos a chocar!\n"
     ]
    }
   ],
   "source": [
    "Velocidad_asteroide = 50\n",
    "Velocidad_nave = 45\n",
    "if Velocidad_asteroide > 40 and Velocidad_nave >35:\n",
    "    print (\"la velocidad es muy alta vamos a chocar!\")\n",
    "elif Velocidad_asteroide > 40 and Velocidad_nave <=35:\n",
    "    print(\"Veo un rayo de luz, hay que tener cuidado\")\n",
    "elif Velocidad_asteroide <=40 or Velocidad_nave <=35:\n",
    "    print(\"no veo nada raro, todo OK\")\n",
    "else:\n",
    "    print(\"cuanto falta para llegar?\")\n"
   ]
  }
 ],
 "metadata": {
  "interpreter": {
   "hash": "2d871c768620e8d67f5ef3742ebc4a65185c1747ef32d874a6a6b1e4ed14c4e3"
  },
  "kernelspec": {
   "display_name": "Python 3.10.2 64-bit",
   "language": "python",
   "name": "python3"
  },
  "language_info": {
   "codemirror_mode": {
    "name": "ipython",
    "version": 3
   },
   "file_extension": ".py",
   "mimetype": "text/x-python",
   "name": "python",
   "nbconvert_exporter": "python",
   "pygments_lexer": "ipython3",
   "version": "3.10.2"
  },
  "orig_nbformat": 4
 },
 "nbformat": 4,
 "nbformat_minor": 2
}
